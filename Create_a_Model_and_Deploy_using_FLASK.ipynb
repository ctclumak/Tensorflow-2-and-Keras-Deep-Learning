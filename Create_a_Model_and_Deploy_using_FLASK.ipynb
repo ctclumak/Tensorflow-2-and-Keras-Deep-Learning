{
  "nbformat": 4,
  "nbformat_minor": 0,
  "metadata": {
    "colab": {
      "name": "Create a Model and Deploy using FLASK.ipynb",
      "provenance": [],
      "authorship_tag": "ABX9TyNH2oyqJlqosk0V2r5fqiWT",
      "include_colab_link": true
    },
    "kernelspec": {
      "name": "python3",
      "display_name": "Python 3"
    }
  },
  "cells": [
    {
      "cell_type": "markdown",
      "metadata": {
        "id": "view-in-github",
        "colab_type": "text"
      },
      "source": [
        "<a href=\"https://colab.research.google.com/github/ctclumak/Tensorflow-2-and-Keras-Deep-Learning/blob/master/Create_a_Model_and_Deploy_using_FLASK.ipynb\" target=\"_parent\"><img src=\"https://colab.research.google.com/assets/colab-badge.svg\" alt=\"Open In Colab\"/></a>"
      ]
    },
    {
      "cell_type": "code",
      "metadata": {
        "id": "CuqT0CYM6hii",
        "colab_type": "code",
        "colab": {
          "base_uri": "https://localhost:8080/",
          "height": 34
        },
        "outputId": "d51c5c72-a1e4-4da4-e2f0-82288525fa9a"
      },
      "source": [
        "import numpy as np\n",
        "import pandas as pd\n",
        "%tensorflow_version 2.x\n"
      ],
      "execution_count": 1,
      "outputs": [
        {
          "output_type": "stream",
          "text": [
            "TensorFlow 2.x selected.\n"
          ],
          "name": "stdout"
        }
      ]
    },
    {
      "cell_type": "code",
      "metadata": {
        "id": "cEHblIao71_y",
        "colab_type": "code",
        "colab": {}
      },
      "source": [
        "Iris = pd.read_csv(\"iris.csv\")"
      ],
      "execution_count": 0,
      "outputs": []
    },
    {
      "cell_type": "code",
      "metadata": {
        "id": "eg-f5IG28Dmd",
        "colab_type": "code",
        "colab": {
          "base_uri": "https://localhost:8080/",
          "height": 204
        },
        "outputId": "f34123b8-7aa5-4987-c6a6-861c33b0b291"
      },
      "source": [
        "Iris.head()"
      ],
      "execution_count": 3,
      "outputs": [
        {
          "output_type": "execute_result",
          "data": {
            "text/html": [
              "<div>\n",
              "<style scoped>\n",
              "    .dataframe tbody tr th:only-of-type {\n",
              "        vertical-align: middle;\n",
              "    }\n",
              "\n",
              "    .dataframe tbody tr th {\n",
              "        vertical-align: top;\n",
              "    }\n",
              "\n",
              "    .dataframe thead th {\n",
              "        text-align: right;\n",
              "    }\n",
              "</style>\n",
              "<table border=\"1\" class=\"dataframe\">\n",
              "  <thead>\n",
              "    <tr style=\"text-align: right;\">\n",
              "      <th></th>\n",
              "      <th>sepal_length</th>\n",
              "      <th>sepal_width</th>\n",
              "      <th>petal_length</th>\n",
              "      <th>petal_width</th>\n",
              "      <th>species</th>\n",
              "    </tr>\n",
              "  </thead>\n",
              "  <tbody>\n",
              "    <tr>\n",
              "      <th>0</th>\n",
              "      <td>5.1</td>\n",
              "      <td>3.5</td>\n",
              "      <td>1.4</td>\n",
              "      <td>0.2</td>\n",
              "      <td>setosa</td>\n",
              "    </tr>\n",
              "    <tr>\n",
              "      <th>1</th>\n",
              "      <td>4.9</td>\n",
              "      <td>3.0</td>\n",
              "      <td>1.4</td>\n",
              "      <td>0.2</td>\n",
              "      <td>setosa</td>\n",
              "    </tr>\n",
              "    <tr>\n",
              "      <th>2</th>\n",
              "      <td>4.7</td>\n",
              "      <td>3.2</td>\n",
              "      <td>1.3</td>\n",
              "      <td>0.2</td>\n",
              "      <td>setosa</td>\n",
              "    </tr>\n",
              "    <tr>\n",
              "      <th>3</th>\n",
              "      <td>4.6</td>\n",
              "      <td>3.1</td>\n",
              "      <td>1.5</td>\n",
              "      <td>0.2</td>\n",
              "      <td>setosa</td>\n",
              "    </tr>\n",
              "    <tr>\n",
              "      <th>4</th>\n",
              "      <td>5.0</td>\n",
              "      <td>3.6</td>\n",
              "      <td>1.4</td>\n",
              "      <td>0.2</td>\n",
              "      <td>setosa</td>\n",
              "    </tr>\n",
              "  </tbody>\n",
              "</table>\n",
              "</div>"
            ],
            "text/plain": [
              "   sepal_length  sepal_width  petal_length  petal_width species\n",
              "0           5.1          3.5           1.4          0.2  setosa\n",
              "1           4.9          3.0           1.4          0.2  setosa\n",
              "2           4.7          3.2           1.3          0.2  setosa\n",
              "3           4.6          3.1           1.5          0.2  setosa\n",
              "4           5.0          3.6           1.4          0.2  setosa"
            ]
          },
          "metadata": {
            "tags": []
          },
          "execution_count": 3
        }
      ]
    },
    {
      "cell_type": "code",
      "metadata": {
        "id": "b1U0uwtc8GuF",
        "colab_type": "code",
        "colab": {}
      },
      "source": [
        "# Separate features vs target"
      ],
      "execution_count": 0,
      "outputs": []
    },
    {
      "cell_type": "code",
      "metadata": {
        "id": "V4FNJ7un8V9w",
        "colab_type": "code",
        "colab": {}
      },
      "source": [
        "X = Iris.drop(\"species\", axis = 1)"
      ],
      "execution_count": 0,
      "outputs": []
    },
    {
      "cell_type": "code",
      "metadata": {
        "id": "23sd8giQ8aBm",
        "colab_type": "code",
        "colab": {}
      },
      "source": [
        "y = Iris[\"species\"]"
      ],
      "execution_count": 0,
      "outputs": []
    },
    {
      "cell_type": "code",
      "metadata": {
        "id": "ibikBMa48d2L",
        "colab_type": "code",
        "colab": {
          "base_uri": "https://localhost:8080/",
          "height": 34
        },
        "outputId": "5b897b32-5d3b-4854-98e6-2c51e2c1cbd9"
      },
      "source": [
        "y.unique()"
      ],
      "execution_count": 7,
      "outputs": [
        {
          "output_type": "execute_result",
          "data": {
            "text/plain": [
              "array(['setosa', 'versicolor', 'virginica'], dtype=object)"
            ]
          },
          "metadata": {
            "tags": []
          },
          "execution_count": 7
        }
      ]
    },
    {
      "cell_type": "code",
      "metadata": {
        "id": "wHZlvIh08fOU",
        "colab_type": "code",
        "colab": {}
      },
      "source": [
        "#encoding the features\n",
        "from sklearn.preprocessing import LabelBinarizer\n",
        "encoder = LabelBinarizer()\n",
        "y = encoder.fit_transform(y)"
      ],
      "execution_count": 0,
      "outputs": []
    },
    {
      "cell_type": "code",
      "metadata": {
        "id": "wxyss5v18wR0",
        "colab_type": "code",
        "colab": {}
      },
      "source": [
        "# train test split and scaler the data\n",
        "from sklearn.model_selection import train_test_split\n",
        "X_train, X_test, y_train, y_test = train_test_split(X, y, test_size = 0.2, random_state = 101)"
      ],
      "execution_count": 0,
      "outputs": []
    },
    {
      "cell_type": "code",
      "metadata": {
        "id": "3D-joltr84Nd",
        "colab_type": "code",
        "colab": {
          "base_uri": "https://localhost:8080/",
          "height": 34
        },
        "outputId": "eb82a1d7-2307-41b2-e5cc-dccedcfa368c"
      },
      "source": [
        "from sklearn.preprocessing import MinMaxScaler\n",
        "scaler = MinMaxScaler()\n",
        "scaler.fit(X_train)"
      ],
      "execution_count": 10,
      "outputs": [
        {
          "output_type": "execute_result",
          "data": {
            "text/plain": [
              "MinMaxScaler(copy=True, feature_range=(0, 1))"
            ]
          },
          "metadata": {
            "tags": []
          },
          "execution_count": 10
        }
      ]
    },
    {
      "cell_type": "code",
      "metadata": {
        "id": "hOOH6xd99Kka",
        "colab_type": "code",
        "colab": {}
      },
      "source": [
        "scaled_X_train = scaler.transform(X_train)\n",
        "scaled_X_test = scaler.transform(X_test)"
      ],
      "execution_count": 0,
      "outputs": []
    },
    {
      "cell_type": "code",
      "metadata": {
        "id": "YRLeOxsd9aOX",
        "colab_type": "code",
        "colab": {}
      },
      "source": [
        "# Create the model\n",
        "from tensorflow.keras.models import Sequential\n",
        "from tensorflow.keras.layers import Dense\n",
        "\n",
        "model = Sequential()\n",
        "model.add(Dense(units = 4, activation=\"relu\", input_shape=[4,]))\n",
        "model.add(Dense(units = 3, activation=\"softmax\")) # we use \"softmax\" because it is a multi class classification\n",
        "\n",
        "model.compile(optimizer = \"adam\", loss = \"categorical_crossentropy\", metrics = [\"accuracy\"])"
      ],
      "execution_count": 0,
      "outputs": []
    },
    {
      "cell_type": "code",
      "metadata": {
        "id": "xWlJ7eBy-G0n",
        "colab_type": "code",
        "colab": {
          "base_uri": "https://localhost:8080/",
          "height": 1000
        },
        "outputId": "ec8f30f6-ae0c-45d2-d20b-b292a6993eb3"
      },
      "source": [
        "# train the model\n",
        "\n",
        "from tensorflow.keras.callbacks import EarlyStopping\n",
        "\n",
        "early_stop = EarlyStopping(patience = 10)\n",
        "\n",
        "model.fit(x = scaled_X_train, y = y_train, epochs=200,\n",
        "          validation_data = (scaled_X_test, y_test), callbacks = [early_stop])"
      ],
      "execution_count": 13,
      "outputs": [
        {
          "output_type": "stream",
          "text": [
            "Train on 120 samples, validate on 30 samples\n",
            "Epoch 1/200\n",
            "120/120 [==============================] - 1s 5ms/sample - loss: 1.0875 - accuracy: 0.3500 - val_loss: 1.1791 - val_accuracy: 0.2667\n",
            "Epoch 2/200\n",
            "120/120 [==============================] - 0s 145us/sample - loss: 1.0804 - accuracy: 0.3500 - val_loss: 1.1712 - val_accuracy: 0.2667\n",
            "Epoch 3/200\n",
            "120/120 [==============================] - 0s 135us/sample - loss: 1.0743 - accuracy: 0.3500 - val_loss: 1.1637 - val_accuracy: 0.2667\n",
            "Epoch 4/200\n",
            "120/120 [==============================] - 0s 128us/sample - loss: 1.0685 - accuracy: 0.3500 - val_loss: 1.1565 - val_accuracy: 0.2667\n",
            "Epoch 5/200\n",
            "120/120 [==============================] - 0s 135us/sample - loss: 1.0624 - accuracy: 0.3500 - val_loss: 1.1499 - val_accuracy: 0.2667\n",
            "Epoch 6/200\n",
            "120/120 [==============================] - 0s 139us/sample - loss: 1.0571 - accuracy: 0.3500 - val_loss: 1.1430 - val_accuracy: 0.2667\n",
            "Epoch 7/200\n",
            "120/120 [==============================] - 0s 151us/sample - loss: 1.0515 - accuracy: 0.3500 - val_loss: 1.1365 - val_accuracy: 0.2667\n",
            "Epoch 8/200\n",
            "120/120 [==============================] - 0s 166us/sample - loss: 1.0462 - accuracy: 0.3500 - val_loss: 1.1302 - val_accuracy: 0.2667\n",
            "Epoch 9/200\n",
            "120/120 [==============================] - 0s 143us/sample - loss: 1.0409 - accuracy: 0.3500 - val_loss: 1.1240 - val_accuracy: 0.2667\n",
            "Epoch 10/200\n",
            "120/120 [==============================] - 0s 156us/sample - loss: 1.0352 - accuracy: 0.3500 - val_loss: 1.1184 - val_accuracy: 0.2667\n",
            "Epoch 11/200\n",
            "120/120 [==============================] - 0s 176us/sample - loss: 1.0299 - accuracy: 0.3500 - val_loss: 1.1125 - val_accuracy: 0.2667\n",
            "Epoch 12/200\n",
            "120/120 [==============================] - 0s 154us/sample - loss: 1.0248 - accuracy: 0.3500 - val_loss: 1.1067 - val_accuracy: 0.2667\n",
            "Epoch 13/200\n",
            "120/120 [==============================] - 0s 131us/sample - loss: 1.0196 - accuracy: 0.3500 - val_loss: 1.1009 - val_accuracy: 0.2667\n",
            "Epoch 14/200\n",
            "120/120 [==============================] - 0s 211us/sample - loss: 1.0146 - accuracy: 0.3500 - val_loss: 1.0951 - val_accuracy: 0.2667\n",
            "Epoch 15/200\n",
            "120/120 [==============================] - 0s 134us/sample - loss: 1.0096 - accuracy: 0.3500 - val_loss: 1.0897 - val_accuracy: 0.2667\n",
            "Epoch 16/200\n",
            "120/120 [==============================] - 0s 141us/sample - loss: 1.0051 - accuracy: 0.3500 - val_loss: 1.0840 - val_accuracy: 0.2667\n",
            "Epoch 17/200\n",
            "120/120 [==============================] - 0s 173us/sample - loss: 1.0005 - accuracy: 0.3500 - val_loss: 1.0787 - val_accuracy: 0.2667\n",
            "Epoch 18/200\n",
            "120/120 [==============================] - 0s 296us/sample - loss: 0.9957 - accuracy: 0.3500 - val_loss: 1.0740 - val_accuracy: 0.2667\n",
            "Epoch 19/200\n",
            "120/120 [==============================] - 0s 154us/sample - loss: 0.9915 - accuracy: 0.3500 - val_loss: 1.0693 - val_accuracy: 0.2667\n",
            "Epoch 20/200\n",
            "120/120 [==============================] - 0s 171us/sample - loss: 0.9875 - accuracy: 0.3500 - val_loss: 1.0646 - val_accuracy: 0.2667\n",
            "Epoch 21/200\n",
            "120/120 [==============================] - 0s 218us/sample - loss: 0.9832 - accuracy: 0.3500 - val_loss: 1.0605 - val_accuracy: 0.2667\n",
            "Epoch 22/200\n",
            "120/120 [==============================] - 0s 135us/sample - loss: 0.9795 - accuracy: 0.3500 - val_loss: 1.0563 - val_accuracy: 0.2667\n",
            "Epoch 23/200\n",
            "120/120 [==============================] - 0s 152us/sample - loss: 0.9759 - accuracy: 0.3500 - val_loss: 1.0522 - val_accuracy: 0.2667\n",
            "Epoch 24/200\n",
            "120/120 [==============================] - 0s 155us/sample - loss: 0.9724 - accuracy: 0.3500 - val_loss: 1.0484 - val_accuracy: 0.2667\n",
            "Epoch 25/200\n",
            "120/120 [==============================] - 0s 166us/sample - loss: 0.9692 - accuracy: 0.3500 - val_loss: 1.0445 - val_accuracy: 0.2667\n",
            "Epoch 26/200\n",
            "120/120 [==============================] - 0s 175us/sample - loss: 0.9660 - accuracy: 0.3500 - val_loss: 1.0413 - val_accuracy: 0.2667\n",
            "Epoch 27/200\n",
            "120/120 [==============================] - 0s 238us/sample - loss: 0.9629 - accuracy: 0.3500 - val_loss: 1.0380 - val_accuracy: 0.2667\n",
            "Epoch 28/200\n",
            "120/120 [==============================] - 0s 159us/sample - loss: 0.9602 - accuracy: 0.3500 - val_loss: 1.0348 - val_accuracy: 0.2667\n",
            "Epoch 29/200\n",
            "120/120 [==============================] - 0s 152us/sample - loss: 0.9573 - accuracy: 0.3500 - val_loss: 1.0317 - val_accuracy: 0.2667\n",
            "Epoch 30/200\n",
            "120/120 [==============================] - 0s 183us/sample - loss: 0.9547 - accuracy: 0.3500 - val_loss: 1.0285 - val_accuracy: 0.2667\n",
            "Epoch 31/200\n",
            "120/120 [==============================] - 0s 161us/sample - loss: 0.9521 - accuracy: 0.3500 - val_loss: 1.0255 - val_accuracy: 0.2667\n",
            "Epoch 32/200\n",
            "120/120 [==============================] - 0s 159us/sample - loss: 0.9495 - accuracy: 0.3917 - val_loss: 1.0226 - val_accuracy: 0.4000\n",
            "Epoch 33/200\n",
            "120/120 [==============================] - 0s 148us/sample - loss: 0.9469 - accuracy: 0.4917 - val_loss: 1.0200 - val_accuracy: 0.4000\n",
            "Epoch 34/200\n",
            "120/120 [==============================] - 0s 140us/sample - loss: 0.9445 - accuracy: 0.5500 - val_loss: 1.0174 - val_accuracy: 0.4000\n",
            "Epoch 35/200\n",
            "120/120 [==============================] - 0s 214us/sample - loss: 0.9421 - accuracy: 0.5583 - val_loss: 1.0148 - val_accuracy: 0.4000\n",
            "Epoch 36/200\n",
            "120/120 [==============================] - 0s 162us/sample - loss: 0.9398 - accuracy: 0.5917 - val_loss: 1.0126 - val_accuracy: 0.5000\n",
            "Epoch 37/200\n",
            "120/120 [==============================] - 0s 158us/sample - loss: 0.9375 - accuracy: 0.5917 - val_loss: 1.0103 - val_accuracy: 0.5000\n",
            "Epoch 38/200\n",
            "120/120 [==============================] - 0s 161us/sample - loss: 0.9353 - accuracy: 0.6167 - val_loss: 1.0078 - val_accuracy: 0.5000\n",
            "Epoch 39/200\n",
            "120/120 [==============================] - 0s 156us/sample - loss: 0.9332 - accuracy: 0.6333 - val_loss: 1.0056 - val_accuracy: 0.5333\n",
            "Epoch 40/200\n",
            "120/120 [==============================] - 0s 180us/sample - loss: 0.9310 - accuracy: 0.6333 - val_loss: 1.0033 - val_accuracy: 0.5333\n",
            "Epoch 41/200\n",
            "120/120 [==============================] - 0s 135us/sample - loss: 0.9289 - accuracy: 0.6417 - val_loss: 1.0008 - val_accuracy: 0.5333\n",
            "Epoch 42/200\n",
            "120/120 [==============================] - 0s 147us/sample - loss: 0.9268 - accuracy: 0.6417 - val_loss: 0.9985 - val_accuracy: 0.5333\n",
            "Epoch 43/200\n",
            "120/120 [==============================] - 0s 197us/sample - loss: 0.9247 - accuracy: 0.6500 - val_loss: 0.9961 - val_accuracy: 0.5333\n",
            "Epoch 44/200\n",
            "120/120 [==============================] - 0s 187us/sample - loss: 0.9226 - accuracy: 0.6500 - val_loss: 0.9939 - val_accuracy: 0.5333\n",
            "Epoch 45/200\n",
            "120/120 [==============================] - 0s 151us/sample - loss: 0.9206 - accuracy: 0.6500 - val_loss: 0.9918 - val_accuracy: 0.5333\n",
            "Epoch 46/200\n",
            "120/120 [==============================] - 0s 195us/sample - loss: 0.9185 - accuracy: 0.6500 - val_loss: 0.9896 - val_accuracy: 0.5333\n",
            "Epoch 47/200\n",
            "120/120 [==============================] - 0s 174us/sample - loss: 0.9165 - accuracy: 0.6667 - val_loss: 0.9875 - val_accuracy: 0.5667\n",
            "Epoch 48/200\n",
            "120/120 [==============================] - 0s 160us/sample - loss: 0.9144 - accuracy: 0.6667 - val_loss: 0.9854 - val_accuracy: 0.6000\n",
            "Epoch 49/200\n",
            "120/120 [==============================] - 0s 183us/sample - loss: 0.9123 - accuracy: 0.6667 - val_loss: 0.9835 - val_accuracy: 0.6000\n",
            "Epoch 50/200\n",
            "120/120 [==============================] - 0s 151us/sample - loss: 0.9103 - accuracy: 0.6667 - val_loss: 0.9816 - val_accuracy: 0.6000\n",
            "Epoch 51/200\n",
            "120/120 [==============================] - 0s 154us/sample - loss: 0.9081 - accuracy: 0.6750 - val_loss: 0.9795 - val_accuracy: 0.6000\n",
            "Epoch 52/200\n",
            "120/120 [==============================] - 0s 154us/sample - loss: 0.9060 - accuracy: 0.6750 - val_loss: 0.9775 - val_accuracy: 0.6000\n",
            "Epoch 53/200\n",
            "120/120 [==============================] - 0s 161us/sample - loss: 0.9040 - accuracy: 0.6750 - val_loss: 0.9755 - val_accuracy: 0.6000\n",
            "Epoch 54/200\n",
            "120/120 [==============================] - 0s 160us/sample - loss: 0.9019 - accuracy: 0.6833 - val_loss: 0.9733 - val_accuracy: 0.6000\n",
            "Epoch 55/200\n",
            "120/120 [==============================] - 0s 173us/sample - loss: 0.8997 - accuracy: 0.6833 - val_loss: 0.9713 - val_accuracy: 0.6000\n",
            "Epoch 56/200\n",
            "120/120 [==============================] - 0s 172us/sample - loss: 0.8977 - accuracy: 0.6833 - val_loss: 0.9693 - val_accuracy: 0.6000\n",
            "Epoch 57/200\n",
            "120/120 [==============================] - 0s 164us/sample - loss: 0.8956 - accuracy: 0.6833 - val_loss: 0.9672 - val_accuracy: 0.6000\n",
            "Epoch 58/200\n",
            "120/120 [==============================] - 0s 147us/sample - loss: 0.8935 - accuracy: 0.6833 - val_loss: 0.9653 - val_accuracy: 0.6000\n",
            "Epoch 59/200\n",
            "120/120 [==============================] - 0s 200us/sample - loss: 0.8914 - accuracy: 0.6833 - val_loss: 0.9630 - val_accuracy: 0.6000\n",
            "Epoch 60/200\n",
            "120/120 [==============================] - 0s 148us/sample - loss: 0.8893 - accuracy: 0.6833 - val_loss: 0.9610 - val_accuracy: 0.6000\n",
            "Epoch 61/200\n",
            "120/120 [==============================] - 0s 170us/sample - loss: 0.8872 - accuracy: 0.6833 - val_loss: 0.9590 - val_accuracy: 0.6000\n",
            "Epoch 62/200\n",
            "120/120 [==============================] - 0s 287us/sample - loss: 0.8851 - accuracy: 0.6833 - val_loss: 0.9567 - val_accuracy: 0.6000\n",
            "Epoch 63/200\n",
            "120/120 [==============================] - 0s 198us/sample - loss: 0.8829 - accuracy: 0.6833 - val_loss: 0.9546 - val_accuracy: 0.6000\n",
            "Epoch 64/200\n",
            "120/120 [==============================] - 0s 194us/sample - loss: 0.8808 - accuracy: 0.6833 - val_loss: 0.9525 - val_accuracy: 0.6000\n",
            "Epoch 65/200\n",
            "120/120 [==============================] - 0s 227us/sample - loss: 0.8787 - accuracy: 0.6833 - val_loss: 0.9504 - val_accuracy: 0.6000\n",
            "Epoch 66/200\n",
            "120/120 [==============================] - 0s 166us/sample - loss: 0.8766 - accuracy: 0.6833 - val_loss: 0.9484 - val_accuracy: 0.6000\n",
            "Epoch 67/200\n",
            "120/120 [==============================] - 0s 179us/sample - loss: 0.8745 - accuracy: 0.6833 - val_loss: 0.9462 - val_accuracy: 0.6000\n",
            "Epoch 68/200\n",
            "120/120 [==============================] - 0s 178us/sample - loss: 0.8724 - accuracy: 0.6833 - val_loss: 0.9442 - val_accuracy: 0.6000\n",
            "Epoch 69/200\n",
            "120/120 [==============================] - 0s 208us/sample - loss: 0.8702 - accuracy: 0.6833 - val_loss: 0.9421 - val_accuracy: 0.6000\n",
            "Epoch 70/200\n",
            "120/120 [==============================] - 0s 213us/sample - loss: 0.8680 - accuracy: 0.6833 - val_loss: 0.9399 - val_accuracy: 0.6000\n",
            "Epoch 71/200\n",
            "120/120 [==============================] - 0s 158us/sample - loss: 0.8659 - accuracy: 0.6833 - val_loss: 0.9377 - val_accuracy: 0.6000\n",
            "Epoch 72/200\n",
            "120/120 [==============================] - 0s 172us/sample - loss: 0.8638 - accuracy: 0.6833 - val_loss: 0.9353 - val_accuracy: 0.6000\n",
            "Epoch 73/200\n",
            "120/120 [==============================] - 0s 160us/sample - loss: 0.8616 - accuracy: 0.6833 - val_loss: 0.9330 - val_accuracy: 0.6000\n",
            "Epoch 74/200\n",
            "120/120 [==============================] - 0s 153us/sample - loss: 0.8596 - accuracy: 0.6833 - val_loss: 0.9307 - val_accuracy: 0.6000\n",
            "Epoch 75/200\n",
            "120/120 [==============================] - 0s 146us/sample - loss: 0.8574 - accuracy: 0.6833 - val_loss: 0.9285 - val_accuracy: 0.6000\n",
            "Epoch 76/200\n",
            "120/120 [==============================] - 0s 151us/sample - loss: 0.8553 - accuracy: 0.6833 - val_loss: 0.9263 - val_accuracy: 0.6000\n",
            "Epoch 77/200\n",
            "120/120 [==============================] - 0s 188us/sample - loss: 0.8531 - accuracy: 0.6833 - val_loss: 0.9242 - val_accuracy: 0.6000\n",
            "Epoch 78/200\n",
            "120/120 [==============================] - 0s 152us/sample - loss: 0.8510 - accuracy: 0.6833 - val_loss: 0.9220 - val_accuracy: 0.6000\n",
            "Epoch 79/200\n",
            "120/120 [==============================] - 0s 181us/sample - loss: 0.8490 - accuracy: 0.6833 - val_loss: 0.9201 - val_accuracy: 0.6000\n",
            "Epoch 80/200\n",
            "120/120 [==============================] - 0s 157us/sample - loss: 0.8467 - accuracy: 0.6833 - val_loss: 0.9178 - val_accuracy: 0.6000\n",
            "Epoch 81/200\n",
            "120/120 [==============================] - 0s 152us/sample - loss: 0.8446 - accuracy: 0.6833 - val_loss: 0.9156 - val_accuracy: 0.6000\n",
            "Epoch 82/200\n",
            "120/120 [==============================] - 0s 147us/sample - loss: 0.8425 - accuracy: 0.6833 - val_loss: 0.9135 - val_accuracy: 0.6000\n",
            "Epoch 83/200\n",
            "120/120 [==============================] - 0s 157us/sample - loss: 0.8404 - accuracy: 0.6833 - val_loss: 0.9114 - val_accuracy: 0.6000\n",
            "Epoch 84/200\n",
            "120/120 [==============================] - 0s 148us/sample - loss: 0.8382 - accuracy: 0.6833 - val_loss: 0.9092 - val_accuracy: 0.6000\n",
            "Epoch 85/200\n",
            "120/120 [==============================] - 0s 148us/sample - loss: 0.8361 - accuracy: 0.6833 - val_loss: 0.9070 - val_accuracy: 0.6000\n",
            "Epoch 86/200\n",
            "120/120 [==============================] - 0s 165us/sample - loss: 0.8340 - accuracy: 0.6833 - val_loss: 0.9048 - val_accuracy: 0.6000\n",
            "Epoch 87/200\n",
            "120/120 [==============================] - 0s 153us/sample - loss: 0.8319 - accuracy: 0.6833 - val_loss: 0.9026 - val_accuracy: 0.6000\n",
            "Epoch 88/200\n",
            "120/120 [==============================] - 0s 133us/sample - loss: 0.8299 - accuracy: 0.6833 - val_loss: 0.9003 - val_accuracy: 0.6000\n",
            "Epoch 89/200\n",
            "120/120 [==============================] - 0s 156us/sample - loss: 0.8277 - accuracy: 0.6833 - val_loss: 0.8981 - val_accuracy: 0.6000\n",
            "Epoch 90/200\n",
            "120/120 [==============================] - 0s 152us/sample - loss: 0.8255 - accuracy: 0.6833 - val_loss: 0.8959 - val_accuracy: 0.6000\n",
            "Epoch 91/200\n",
            "120/120 [==============================] - 0s 151us/sample - loss: 0.8236 - accuracy: 0.6833 - val_loss: 0.8937 - val_accuracy: 0.6000\n",
            "Epoch 92/200\n",
            "120/120 [==============================] - 0s 165us/sample - loss: 0.8214 - accuracy: 0.6833 - val_loss: 0.8917 - val_accuracy: 0.6000\n",
            "Epoch 93/200\n",
            "120/120 [==============================] - 0s 142us/sample - loss: 0.8192 - accuracy: 0.6917 - val_loss: 0.8895 - val_accuracy: 0.6000\n",
            "Epoch 94/200\n",
            "120/120 [==============================] - 0s 137us/sample - loss: 0.8172 - accuracy: 0.6917 - val_loss: 0.8874 - val_accuracy: 0.6000\n",
            "Epoch 95/200\n",
            "120/120 [==============================] - 0s 170us/sample - loss: 0.8150 - accuracy: 0.6917 - val_loss: 0.8853 - val_accuracy: 0.6000\n",
            "Epoch 96/200\n",
            "120/120 [==============================] - 0s 158us/sample - loss: 0.8129 - accuracy: 0.6917 - val_loss: 0.8833 - val_accuracy: 0.6000\n",
            "Epoch 97/200\n",
            "120/120 [==============================] - 0s 164us/sample - loss: 0.8109 - accuracy: 0.6917 - val_loss: 0.8811 - val_accuracy: 0.6000\n",
            "Epoch 98/200\n",
            "120/120 [==============================] - 0s 158us/sample - loss: 0.8087 - accuracy: 0.6917 - val_loss: 0.8790 - val_accuracy: 0.6000\n",
            "Epoch 99/200\n",
            "120/120 [==============================] - 0s 153us/sample - loss: 0.8068 - accuracy: 0.6917 - val_loss: 0.8769 - val_accuracy: 0.6000\n",
            "Epoch 100/200\n",
            "120/120 [==============================] - 0s 143us/sample - loss: 0.8046 - accuracy: 0.6917 - val_loss: 0.8747 - val_accuracy: 0.6333\n",
            "Epoch 101/200\n",
            "120/120 [==============================] - 0s 157us/sample - loss: 0.8025 - accuracy: 0.6917 - val_loss: 0.8726 - val_accuracy: 0.6333\n",
            "Epoch 102/200\n",
            "120/120 [==============================] - 0s 150us/sample - loss: 0.8004 - accuracy: 0.6917 - val_loss: 0.8705 - val_accuracy: 0.6333\n",
            "Epoch 103/200\n",
            "120/120 [==============================] - 0s 164us/sample - loss: 0.7984 - accuracy: 0.6917 - val_loss: 0.8684 - val_accuracy: 0.6333\n",
            "Epoch 104/200\n",
            "120/120 [==============================] - 0s 165us/sample - loss: 0.7963 - accuracy: 0.7000 - val_loss: 0.8664 - val_accuracy: 0.6333\n",
            "Epoch 105/200\n",
            "120/120 [==============================] - 0s 173us/sample - loss: 0.7942 - accuracy: 0.7000 - val_loss: 0.8644 - val_accuracy: 0.6333\n",
            "Epoch 106/200\n",
            "120/120 [==============================] - 0s 148us/sample - loss: 0.7922 - accuracy: 0.7000 - val_loss: 0.8623 - val_accuracy: 0.6333\n",
            "Epoch 107/200\n",
            "120/120 [==============================] - 0s 178us/sample - loss: 0.7901 - accuracy: 0.7000 - val_loss: 0.8602 - val_accuracy: 0.6333\n",
            "Epoch 108/200\n",
            "120/120 [==============================] - 0s 160us/sample - loss: 0.7881 - accuracy: 0.7000 - val_loss: 0.8581 - val_accuracy: 0.6333\n",
            "Epoch 109/200\n",
            "120/120 [==============================] - 0s 145us/sample - loss: 0.7861 - accuracy: 0.7000 - val_loss: 0.8558 - val_accuracy: 0.6333\n",
            "Epoch 110/200\n",
            "120/120 [==============================] - 0s 141us/sample - loss: 0.7839 - accuracy: 0.7000 - val_loss: 0.8537 - val_accuracy: 0.6333\n",
            "Epoch 111/200\n",
            "120/120 [==============================] - 0s 242us/sample - loss: 0.7818 - accuracy: 0.7000 - val_loss: 0.8515 - val_accuracy: 0.6333\n",
            "Epoch 112/200\n",
            "120/120 [==============================] - 0s 180us/sample - loss: 0.7798 - accuracy: 0.7000 - val_loss: 0.8493 - val_accuracy: 0.6333\n",
            "Epoch 113/200\n",
            "120/120 [==============================] - 0s 209us/sample - loss: 0.7777 - accuracy: 0.7000 - val_loss: 0.8472 - val_accuracy: 0.6333\n",
            "Epoch 114/200\n",
            "120/120 [==============================] - 0s 161us/sample - loss: 0.7757 - accuracy: 0.7000 - val_loss: 0.8451 - val_accuracy: 0.6333\n",
            "Epoch 115/200\n",
            "120/120 [==============================] - 0s 143us/sample - loss: 0.7736 - accuracy: 0.7000 - val_loss: 0.8429 - val_accuracy: 0.6333\n",
            "Epoch 116/200\n",
            "120/120 [==============================] - 0s 196us/sample - loss: 0.7716 - accuracy: 0.7000 - val_loss: 0.8408 - val_accuracy: 0.6333\n",
            "Epoch 117/200\n",
            "120/120 [==============================] - 0s 148us/sample - loss: 0.7698 - accuracy: 0.7083 - val_loss: 0.8387 - val_accuracy: 0.6333\n",
            "Epoch 118/200\n",
            "120/120 [==============================] - 0s 161us/sample - loss: 0.7676 - accuracy: 0.7083 - val_loss: 0.8364 - val_accuracy: 0.6333\n",
            "Epoch 119/200\n",
            "120/120 [==============================] - 0s 151us/sample - loss: 0.7655 - accuracy: 0.7083 - val_loss: 0.8342 - val_accuracy: 0.6333\n",
            "Epoch 120/200\n",
            "120/120 [==============================] - 0s 139us/sample - loss: 0.7638 - accuracy: 0.7083 - val_loss: 0.8320 - val_accuracy: 0.6333\n",
            "Epoch 121/200\n",
            "120/120 [==============================] - 0s 198us/sample - loss: 0.7615 - accuracy: 0.7083 - val_loss: 0.8300 - val_accuracy: 0.6333\n",
            "Epoch 122/200\n",
            "120/120 [==============================] - 0s 165us/sample - loss: 0.7595 - accuracy: 0.7083 - val_loss: 0.8280 - val_accuracy: 0.6333\n",
            "Epoch 123/200\n",
            "120/120 [==============================] - 0s 181us/sample - loss: 0.7576 - accuracy: 0.7083 - val_loss: 0.8260 - val_accuracy: 0.6333\n",
            "Epoch 124/200\n",
            "120/120 [==============================] - 0s 236us/sample - loss: 0.7555 - accuracy: 0.7083 - val_loss: 0.8239 - val_accuracy: 0.6333\n",
            "Epoch 125/200\n",
            "120/120 [==============================] - 0s 166us/sample - loss: 0.7535 - accuracy: 0.7083 - val_loss: 0.8217 - val_accuracy: 0.6333\n",
            "Epoch 126/200\n",
            "120/120 [==============================] - 0s 161us/sample - loss: 0.7515 - accuracy: 0.7083 - val_loss: 0.8194 - val_accuracy: 0.6333\n",
            "Epoch 127/200\n",
            "120/120 [==============================] - 0s 146us/sample - loss: 0.7494 - accuracy: 0.7083 - val_loss: 0.8173 - val_accuracy: 0.6333\n",
            "Epoch 128/200\n",
            "120/120 [==============================] - 0s 149us/sample - loss: 0.7474 - accuracy: 0.7083 - val_loss: 0.8152 - val_accuracy: 0.6333\n",
            "Epoch 129/200\n",
            "120/120 [==============================] - 0s 192us/sample - loss: 0.7454 - accuracy: 0.7083 - val_loss: 0.8131 - val_accuracy: 0.6333\n",
            "Epoch 130/200\n",
            "120/120 [==============================] - 0s 162us/sample - loss: 0.7434 - accuracy: 0.7083 - val_loss: 0.8110 - val_accuracy: 0.6333\n",
            "Epoch 131/200\n",
            "120/120 [==============================] - 0s 161us/sample - loss: 0.7414 - accuracy: 0.7083 - val_loss: 0.8087 - val_accuracy: 0.6333\n",
            "Epoch 132/200\n",
            "120/120 [==============================] - 0s 152us/sample - loss: 0.7395 - accuracy: 0.7083 - val_loss: 0.8065 - val_accuracy: 0.6333\n",
            "Epoch 133/200\n",
            "120/120 [==============================] - 0s 236us/sample - loss: 0.7375 - accuracy: 0.7083 - val_loss: 0.8045 - val_accuracy: 0.6333\n",
            "Epoch 134/200\n",
            "120/120 [==============================] - 0s 211us/sample - loss: 0.7355 - accuracy: 0.7083 - val_loss: 0.8024 - val_accuracy: 0.6333\n",
            "Epoch 135/200\n",
            "120/120 [==============================] - 0s 123us/sample - loss: 0.7335 - accuracy: 0.7167 - val_loss: 0.8003 - val_accuracy: 0.6333\n",
            "Epoch 136/200\n",
            "120/120 [==============================] - 0s 157us/sample - loss: 0.7315 - accuracy: 0.7167 - val_loss: 0.7981 - val_accuracy: 0.6333\n",
            "Epoch 137/200\n",
            "120/120 [==============================] - 0s 181us/sample - loss: 0.7297 - accuracy: 0.7167 - val_loss: 0.7960 - val_accuracy: 0.6333\n",
            "Epoch 138/200\n",
            "120/120 [==============================] - 0s 148us/sample - loss: 0.7275 - accuracy: 0.7250 - val_loss: 0.7938 - val_accuracy: 0.6333\n",
            "Epoch 139/200\n",
            "120/120 [==============================] - 0s 191us/sample - loss: 0.7256 - accuracy: 0.7250 - val_loss: 0.7916 - val_accuracy: 0.6333\n",
            "Epoch 140/200\n",
            "120/120 [==============================] - 0s 154us/sample - loss: 0.7237 - accuracy: 0.7250 - val_loss: 0.7894 - val_accuracy: 0.6333\n",
            "Epoch 141/200\n",
            "120/120 [==============================] - 0s 142us/sample - loss: 0.7217 - accuracy: 0.7250 - val_loss: 0.7874 - val_accuracy: 0.6333\n",
            "Epoch 142/200\n",
            "120/120 [==============================] - 0s 149us/sample - loss: 0.7197 - accuracy: 0.7250 - val_loss: 0.7857 - val_accuracy: 0.6333\n",
            "Epoch 143/200\n",
            "120/120 [==============================] - 0s 146us/sample - loss: 0.7177 - accuracy: 0.7250 - val_loss: 0.7837 - val_accuracy: 0.6333\n",
            "Epoch 144/200\n",
            "120/120 [==============================] - 0s 172us/sample - loss: 0.7160 - accuracy: 0.7250 - val_loss: 0.7819 - val_accuracy: 0.6333\n",
            "Epoch 145/200\n",
            "120/120 [==============================] - 0s 152us/sample - loss: 0.7139 - accuracy: 0.7250 - val_loss: 0.7797 - val_accuracy: 0.6333\n",
            "Epoch 146/200\n",
            "120/120 [==============================] - 0s 178us/sample - loss: 0.7119 - accuracy: 0.7250 - val_loss: 0.7775 - val_accuracy: 0.6333\n",
            "Epoch 147/200\n",
            "120/120 [==============================] - 0s 177us/sample - loss: 0.7100 - accuracy: 0.7250 - val_loss: 0.7752 - val_accuracy: 0.6333\n",
            "Epoch 148/200\n",
            "120/120 [==============================] - 0s 197us/sample - loss: 0.7081 - accuracy: 0.7250 - val_loss: 0.7729 - val_accuracy: 0.6333\n",
            "Epoch 149/200\n",
            "120/120 [==============================] - 0s 182us/sample - loss: 0.7060 - accuracy: 0.7250 - val_loss: 0.7709 - val_accuracy: 0.6667\n",
            "Epoch 150/200\n",
            "120/120 [==============================] - 0s 174us/sample - loss: 0.7042 - accuracy: 0.7250 - val_loss: 0.7688 - val_accuracy: 0.6667\n",
            "Epoch 151/200\n",
            "120/120 [==============================] - 0s 153us/sample - loss: 0.7021 - accuracy: 0.7250 - val_loss: 0.7667 - val_accuracy: 0.6667\n",
            "Epoch 152/200\n",
            "120/120 [==============================] - 0s 203us/sample - loss: 0.7004 - accuracy: 0.7250 - val_loss: 0.7646 - val_accuracy: 0.7000\n",
            "Epoch 153/200\n",
            "120/120 [==============================] - 0s 184us/sample - loss: 0.6985 - accuracy: 0.7250 - val_loss: 0.7624 - val_accuracy: 0.7000\n",
            "Epoch 154/200\n",
            "120/120 [==============================] - 0s 171us/sample - loss: 0.6964 - accuracy: 0.7250 - val_loss: 0.7602 - val_accuracy: 0.7000\n",
            "Epoch 155/200\n",
            "120/120 [==============================] - 0s 157us/sample - loss: 0.6945 - accuracy: 0.7250 - val_loss: 0.7581 - val_accuracy: 0.7000\n",
            "Epoch 156/200\n",
            "120/120 [==============================] - 0s 167us/sample - loss: 0.6926 - accuracy: 0.7333 - val_loss: 0.7561 - val_accuracy: 0.7000\n",
            "Epoch 157/200\n",
            "120/120 [==============================] - 0s 153us/sample - loss: 0.6907 - accuracy: 0.7333 - val_loss: 0.7541 - val_accuracy: 0.7000\n",
            "Epoch 158/200\n",
            "120/120 [==============================] - 0s 191us/sample - loss: 0.6889 - accuracy: 0.7333 - val_loss: 0.7521 - val_accuracy: 0.7000\n",
            "Epoch 159/200\n",
            "120/120 [==============================] - 0s 147us/sample - loss: 0.6869 - accuracy: 0.7417 - val_loss: 0.7499 - val_accuracy: 0.7000\n",
            "Epoch 160/200\n",
            "120/120 [==============================] - 0s 153us/sample - loss: 0.6850 - accuracy: 0.7417 - val_loss: 0.7479 - val_accuracy: 0.7000\n",
            "Epoch 161/200\n",
            "120/120 [==============================] - 0s 181us/sample - loss: 0.6832 - accuracy: 0.7417 - val_loss: 0.7460 - val_accuracy: 0.7000\n",
            "Epoch 162/200\n",
            "120/120 [==============================] - 0s 135us/sample - loss: 0.6812 - accuracy: 0.7417 - val_loss: 0.7439 - val_accuracy: 0.7000\n",
            "Epoch 163/200\n",
            "120/120 [==============================] - 0s 149us/sample - loss: 0.6793 - accuracy: 0.7417 - val_loss: 0.7419 - val_accuracy: 0.7000\n",
            "Epoch 164/200\n",
            "120/120 [==============================] - 0s 130us/sample - loss: 0.6774 - accuracy: 0.7417 - val_loss: 0.7399 - val_accuracy: 0.7000\n",
            "Epoch 165/200\n",
            "120/120 [==============================] - 0s 172us/sample - loss: 0.6756 - accuracy: 0.7417 - val_loss: 0.7380 - val_accuracy: 0.7000\n",
            "Epoch 166/200\n",
            "120/120 [==============================] - 0s 171us/sample - loss: 0.6739 - accuracy: 0.7417 - val_loss: 0.7362 - val_accuracy: 0.7000\n",
            "Epoch 167/200\n",
            "120/120 [==============================] - 0s 153us/sample - loss: 0.6718 - accuracy: 0.7417 - val_loss: 0.7340 - val_accuracy: 0.7000\n",
            "Epoch 168/200\n",
            "120/120 [==============================] - 0s 193us/sample - loss: 0.6700 - accuracy: 0.7583 - val_loss: 0.7320 - val_accuracy: 0.7333\n",
            "Epoch 169/200\n",
            "120/120 [==============================] - 0s 172us/sample - loss: 0.6682 - accuracy: 0.7583 - val_loss: 0.7299 - val_accuracy: 0.7333\n",
            "Epoch 170/200\n",
            "120/120 [==============================] - 0s 149us/sample - loss: 0.6662 - accuracy: 0.7583 - val_loss: 0.7277 - val_accuracy: 0.7333\n",
            "Epoch 171/200\n",
            "120/120 [==============================] - 0s 166us/sample - loss: 0.6645 - accuracy: 0.7583 - val_loss: 0.7256 - val_accuracy: 0.7333\n",
            "Epoch 172/200\n",
            "120/120 [==============================] - 0s 174us/sample - loss: 0.6626 - accuracy: 0.7583 - val_loss: 0.7235 - val_accuracy: 0.7333\n",
            "Epoch 173/200\n",
            "120/120 [==============================] - 0s 162us/sample - loss: 0.6608 - accuracy: 0.7583 - val_loss: 0.7217 - val_accuracy: 0.7333\n",
            "Epoch 174/200\n",
            "120/120 [==============================] - 0s 169us/sample - loss: 0.6588 - accuracy: 0.7667 - val_loss: 0.7197 - val_accuracy: 0.7667\n",
            "Epoch 175/200\n",
            "120/120 [==============================] - 0s 192us/sample - loss: 0.6570 - accuracy: 0.7750 - val_loss: 0.7178 - val_accuracy: 0.7667\n",
            "Epoch 176/200\n",
            "120/120 [==============================] - 0s 194us/sample - loss: 0.6552 - accuracy: 0.7833 - val_loss: 0.7159 - val_accuracy: 0.7667\n",
            "Epoch 177/200\n",
            "120/120 [==============================] - 0s 185us/sample - loss: 0.6533 - accuracy: 0.7833 - val_loss: 0.7139 - val_accuracy: 0.8000\n",
            "Epoch 178/200\n",
            "120/120 [==============================] - 0s 146us/sample - loss: 0.6515 - accuracy: 0.7833 - val_loss: 0.7119 - val_accuracy: 0.8000\n",
            "Epoch 179/200\n",
            "120/120 [==============================] - 0s 168us/sample - loss: 0.6496 - accuracy: 0.7833 - val_loss: 0.7097 - val_accuracy: 0.8000\n",
            "Epoch 180/200\n",
            "120/120 [==============================] - 0s 153us/sample - loss: 0.6480 - accuracy: 0.7917 - val_loss: 0.7077 - val_accuracy: 0.8000\n",
            "Epoch 181/200\n",
            "120/120 [==============================] - 0s 189us/sample - loss: 0.6460 - accuracy: 0.7917 - val_loss: 0.7057 - val_accuracy: 0.8000\n",
            "Epoch 182/200\n",
            "120/120 [==============================] - 0s 173us/sample - loss: 0.6442 - accuracy: 0.7917 - val_loss: 0.7036 - val_accuracy: 0.8000\n",
            "Epoch 183/200\n",
            "120/120 [==============================] - 0s 153us/sample - loss: 0.6424 - accuracy: 0.7917 - val_loss: 0.7016 - val_accuracy: 0.8000\n",
            "Epoch 184/200\n",
            "120/120 [==============================] - 0s 174us/sample - loss: 0.6407 - accuracy: 0.7917 - val_loss: 0.6996 - val_accuracy: 0.8000\n",
            "Epoch 185/200\n",
            "120/120 [==============================] - 0s 134us/sample - loss: 0.6388 - accuracy: 0.7917 - val_loss: 0.6978 - val_accuracy: 0.8000\n",
            "Epoch 186/200\n",
            "120/120 [==============================] - 0s 158us/sample - loss: 0.6371 - accuracy: 0.7917 - val_loss: 0.6961 - val_accuracy: 0.8000\n",
            "Epoch 187/200\n",
            "120/120 [==============================] - 0s 150us/sample - loss: 0.6353 - accuracy: 0.7917 - val_loss: 0.6944 - val_accuracy: 0.8000\n",
            "Epoch 188/200\n",
            "120/120 [==============================] - 0s 171us/sample - loss: 0.6335 - accuracy: 0.7917 - val_loss: 0.6923 - val_accuracy: 0.8000\n",
            "Epoch 189/200\n",
            "120/120 [==============================] - 0s 172us/sample - loss: 0.6317 - accuracy: 0.8083 - val_loss: 0.6904 - val_accuracy: 0.8000\n",
            "Epoch 190/200\n",
            "120/120 [==============================] - 0s 145us/sample - loss: 0.6299 - accuracy: 0.8083 - val_loss: 0.6884 - val_accuracy: 0.8000\n",
            "Epoch 191/200\n",
            "120/120 [==============================] - 0s 131us/sample - loss: 0.6281 - accuracy: 0.8083 - val_loss: 0.6863 - val_accuracy: 0.8000\n",
            "Epoch 192/200\n",
            "120/120 [==============================] - 0s 152us/sample - loss: 0.6265 - accuracy: 0.8083 - val_loss: 0.6842 - val_accuracy: 0.8000\n",
            "Epoch 193/200\n",
            "120/120 [==============================] - 0s 169us/sample - loss: 0.6246 - accuracy: 0.8167 - val_loss: 0.6824 - val_accuracy: 0.8000\n",
            "Epoch 194/200\n",
            "120/120 [==============================] - 0s 157us/sample - loss: 0.6228 - accuracy: 0.8250 - val_loss: 0.6806 - val_accuracy: 0.8000\n",
            "Epoch 195/200\n",
            "120/120 [==============================] - 0s 151us/sample - loss: 0.6211 - accuracy: 0.8250 - val_loss: 0.6789 - val_accuracy: 0.8000\n",
            "Epoch 196/200\n",
            "120/120 [==============================] - 0s 155us/sample - loss: 0.6194 - accuracy: 0.8250 - val_loss: 0.6770 - val_accuracy: 0.8000\n",
            "Epoch 197/200\n",
            "120/120 [==============================] - 0s 145us/sample - loss: 0.6176 - accuracy: 0.8250 - val_loss: 0.6748 - val_accuracy: 0.8000\n",
            "Epoch 198/200\n",
            "120/120 [==============================] - 0s 136us/sample - loss: 0.6159 - accuracy: 0.8250 - val_loss: 0.6727 - val_accuracy: 0.8333\n",
            "Epoch 199/200\n",
            "120/120 [==============================] - 0s 152us/sample - loss: 0.6142 - accuracy: 0.8250 - val_loss: 0.6707 - val_accuracy: 0.8333\n",
            "Epoch 200/200\n",
            "120/120 [==============================] - 0s 173us/sample - loss: 0.6124 - accuracy: 0.8250 - val_loss: 0.6688 - val_accuracy: 0.8333\n"
          ],
          "name": "stdout"
        },
        {
          "output_type": "execute_result",
          "data": {
            "text/plain": [
              "<tensorflow.python.keras.callbacks.History at 0x7f1140884fd0>"
            ]
          },
          "metadata": {
            "tags": []
          },
          "execution_count": 13
        }
      ]
    },
    {
      "cell_type": "code",
      "metadata": {
        "id": "czJ5lGoC_GQh",
        "colab_type": "code",
        "colab": {
          "base_uri": "https://localhost:8080/",
          "height": 284
        },
        "outputId": "2828e456-8e63-44f9-ff1f-b22038ec41e7"
      },
      "source": [
        "#check the performance\n",
        "\n",
        "metrics = pd.DataFrame(model.history.history)\n",
        "metrics[['loss', 'val_loss']].plot()\n"
      ],
      "execution_count": 14,
      "outputs": [
        {
          "output_type": "execute_result",
          "data": {
            "text/plain": [
              "<matplotlib.axes._subplots.AxesSubplot at 0x7f113d2790b8>"
            ]
          },
          "metadata": {
            "tags": []
          },
          "execution_count": 14
        },
        {
          "output_type": "display_data",
          "data": {
            "image/png": "[encoded data removed]",
            "text/plain": [
              "<Figure size 432x288 with 1 Axes>"
            ]
          },
          "metadata": {
            "tags": []
          }
        }
      ]
    },
    {
      "cell_type": "code",
      "metadata": {
        "id": "Nl67ww4-C7ne",
        "colab_type": "code",
        "colab": {
          "base_uri": "https://localhost:8080/",
          "height": 282
        },
        "outputId": "bd204da2-4c05-4f72-ff25-d442cbd76347"
      },
      "source": [
        "#check the accuracy metrics\n",
        "metrics[['accuracy', 'val_accuracy']].plot()"
      ],
      "execution_count": 15,
      "outputs": [
        {
          "output_type": "execute_result",
          "data": {
            "text/plain": [
              "<matplotlib.axes._subplots.AxesSubplot at 0x7f113eac7cc0>"
            ]
          },
          "metadata": {
            "tags": []
          },
          "execution_count": 15
        },
        {
          "output_type": "display_data",
          "data": {
            "image/png": "[encoded data removed]",
            "text/plain": [
              "<Figure size 432x288 with 1 Axes>"
            ]
          },
          "metadata": {
            "tags": []
          }
        }
      ]
    },
    {
      "cell_type": "code",
      "metadata": {
        "id": "tmUKjDF8DJ2w",
        "colab_type": "code",
        "colab": {
          "base_uri": "https://localhost:8080/",
          "height": 34
        },
        "outputId": "75852988-48b5-4a46-c28b-5332bb44f60a"
      },
      "source": [
        "model.evaluate(scaled_X_test,y_test, verbose = 0)"
      ],
      "execution_count": 16,
      "outputs": [
        {
          "output_type": "execute_result",
          "data": {
            "text/plain": [
              "[0.6688003540039062, 0.8333333]"
            ]
          },
          "metadata": {
            "tags": []
          },
          "execution_count": 16
        }
      ]
    },
    {
      "cell_type": "code",
      "metadata": {
        "id": "jqpdIs2zEO5R",
        "colab_type": "code",
        "colab": {}
      },
      "source": [
        "# if we think the accuracy is good enough, it is 93% here we can just fit_transform all the X data\n",
        " epochs = len(metrics)\n"
      ],
      "execution_count": 0,
      "outputs": []
    },
    {
      "cell_type": "code",
      "metadata": {
        "id": "PWKl_4-sEvFT",
        "colab_type": "code",
        "colab": {
          "base_uri": "https://localhost:8080/",
          "height": 34
        },
        "outputId": "a7a721cc-7e36-4eff-fb87-6ea48f9d6f41"
      },
      "source": [
        "epochs"
      ],
      "execution_count": 18,
      "outputs": [
        {
          "output_type": "execute_result",
          "data": {
            "text/plain": [
              "200"
            ]
          },
          "metadata": {
            "tags": []
          },
          "execution_count": 18
        }
      ]
    },
    {
      "cell_type": "code",
      "metadata": {
        "id": "YPhW8b2XEv1y",
        "colab_type": "code",
        "colab": {}
      },
      "source": [
        "scaled_X = scaler.fit_transform(X)"
      ],
      "execution_count": 0,
      "outputs": []
    },
    {
      "cell_type": "code",
      "metadata": {
        "id": "UlyewXrBFNON",
        "colab_type": "code",
        "colab": {}
      },
      "source": [
        "#create a new model\n",
        "\n",
        "model = Sequential()\n",
        "model.add(Dense(units = 4, activation=\"relu\", input_shape=[4,]))\n",
        "model.add(Dense(units = 3, activation=\"softmax\")) # we use \"softmax\" because it is a multi class classification\n",
        "\n",
        "model.compile(optimizer = \"adam\", loss = \"categorical_crossentropy\", metrics = [\"accuracy\"])"
      ],
      "execution_count": 0,
      "outputs": []
    },
    {
      "cell_type": "code",
      "metadata": {
        "id": "8SZwy8UBFfWk",
        "colab_type": "code",
        "colab": {}
      },
      "source": [
        "# fit the scaled_X to the model\n",
        "\n",
        "model.fit(scaled_X,y,epochs = epochs)"
      ],
      "execution_count": 0,
      "outputs": []
    },
    {
      "cell_type": "code",
      "metadata": {
        "id": "_ehCOlKqFnZq",
        "colab_type": "code",
        "colab": {}
      },
      "source": [
        "# save the model\n",
        "model.save(\"final_iris_models.h5\")\n"
      ],
      "execution_count": 0,
      "outputs": []
    },
    {
      "cell_type": "code",
      "metadata": {
        "id": "q294JqGaF6uX",
        "colab_type": "code",
        "colab": {}
      },
      "source": [
        "# save the scaler\n",
        "import joblib"
      ],
      "execution_count": 0,
      "outputs": []
    },
    {
      "cell_type": "code",
      "metadata": {
        "id": "nwy_jxdnF_OB",
        "colab_type": "code",
        "colab": {
          "base_uri": "https://localhost:8080/",
          "height": 34
        },
        "outputId": "7adc7801-3346-4678-e554-21ff91bdc63d"
      },
      "source": [
        "joblib.dump(scaler,'iris_scaler.pkl')"
      ],
      "execution_count": 24,
      "outputs": [
        {
          "output_type": "execute_result",
          "data": {
            "text/plain": [
              "['iris_scaler.pkl']"
            ]
          },
          "metadata": {
            "tags": []
          },
          "execution_count": 24
        }
      ]
    },
    {
      "cell_type": "code",
      "metadata": {
        "id": "jEwc8NaQGGUi",
        "colab_type": "code",
        "colab": {}
      },
      "source": [
        "# predict on a new file\n",
        "\n",
        "## load the model and scaler first\n",
        "from tensorflow.keras.models import load_model\n",
        "flower_model = load_model(\"final_iris_models.h5\")\n",
        "flower_scaler = joblib.load(\"iris_scaler.pkl\")"
      ],
      "execution_count": 0,
      "outputs": []
    },
    {
      "cell_type": "code",
      "metadata": {
        "id": "heJ9coWrGgKY",
        "colab_type": "code",
        "colab": {
          "base_uri": "https://localhost:8080/",
          "height": 80
        },
        "outputId": "f1aa5299-192b-4680-bf29-3d91629f402c"
      },
      "source": [
        "Iris.head(1)"
      ],
      "execution_count": 26,
      "outputs": [
        {
          "output_type": "execute_result",
          "data": {
            "text/html": [
              "<div>\n",
              "<style scoped>\n",
              "    .dataframe tbody tr th:only-of-type {\n",
              "        vertical-align: middle;\n",
              "    }\n",
              "\n",
              "    .dataframe tbody tr th {\n",
              "        vertical-align: top;\n",
              "    }\n",
              "\n",
              "    .dataframe thead th {\n",
              "        text-align: right;\n",
              "    }\n",
              "</style>\n",
              "<table border=\"1\" class=\"dataframe\">\n",
              "  <thead>\n",
              "    <tr style=\"text-align: right;\">\n",
              "      <th></th>\n",
              "      <th>sepal_length</th>\n",
              "      <th>sepal_width</th>\n",
              "      <th>petal_length</th>\n",
              "      <th>petal_width</th>\n",
              "      <th>species</th>\n",
              "    </tr>\n",
              "  </thead>\n",
              "  <tbody>\n",
              "    <tr>\n",
              "      <th>0</th>\n",
              "      <td>5.1</td>\n",
              "      <td>3.5</td>\n",
              "      <td>1.4</td>\n",
              "      <td>0.2</td>\n",
              "      <td>setosa</td>\n",
              "    </tr>\n",
              "  </tbody>\n",
              "</table>\n",
              "</div>"
            ],
            "text/plain": [
              "   sepal_length  sepal_width  petal_length  petal_width species\n",
              "0           5.1          3.5           1.4          0.2  setosa"
            ]
          },
          "metadata": {
            "tags": []
          },
          "execution_count": 26
        }
      ]
    },
    {
      "cell_type": "code",
      "metadata": {
        "id": "Ubct0MTSHMmZ",
        "colab_type": "code",
        "colab": {}
      },
      "source": [
        "flower_example = {\"sepal_length\": 5.1,\n",
        "                  \"sepal_width\": 3.5,\n",
        "                  \"petal_length\": 1.4,\n",
        "                  \"petal_width\": 0.2,\n",
        "                    }"
      ],
      "execution_count": 0,
      "outputs": []
    },
    {
      "cell_type": "code",
      "metadata": {
        "id": "vl9IxbfqIPsM",
        "colab_type": "code",
        "colab": {
          "base_uri": "https://localhost:8080/",
          "height": 34
        },
        "outputId": "ccff6db8-82f5-4d00-b0f8-4c59176f4fcf"
      },
      "source": [
        "encoder.classes_"
      ],
      "execution_count": 28,
      "outputs": [
        {
          "output_type": "execute_result",
          "data": {
            "text/plain": [
              "array(['setosa', 'versicolor', 'virginica'], dtype='<U10')"
            ]
          },
          "metadata": {
            "tags": []
          },
          "execution_count": 28
        }
      ]
    },
    {
      "cell_type": "code",
      "metadata": {
        "id": "z-vMvZVkHfhc",
        "colab_type": "code",
        "colab": {}
      },
      "source": [
        "def return_prediction(model,scaler, sample_json):\n",
        "  s_len = sample_json[\"sepal_length\"]\n",
        "  s_wid = sample_json[\"sepal_width\"]\n",
        "  p_len = sample_json[\"petal_length\"]\n",
        "  p_wid = sample_json[\"petal_width\"]\n",
        "\n",
        "  flower = [[s_len,s_wid,p_len, p_wid]]\n",
        "\n",
        "  classes = np.array(['setosa', 'versicolor', 'virginica'])\n",
        "\n",
        "  flower = scaler.transform(flower)\n",
        "\n",
        "  class_ind = model.predict_classes(flower)\n",
        "\n",
        "  return classes[class_ind]"
      ],
      "execution_count": 0,
      "outputs": []
    },
    {
      "cell_type": "code",
      "metadata": {
        "id": "YAYL2k51IqKQ",
        "colab_type": "code",
        "colab": {
          "base_uri": "https://localhost:8080/",
          "height": 34
        },
        "outputId": "ea6f9147-918f-4876-9ea6-243955716ed5"
      },
      "source": [
        "return_prediction(flower_model, flower_scaler, flower_example)"
      ],
      "execution_count": 30,
      "outputs": [
        {
          "output_type": "execute_result",
          "data": {
            "text/plain": [
              "array(['setosa'], dtype='<U10')"
            ]
          },
          "metadata": {
            "tags": []
          },
          "execution_count": 30
        }
      ]
    },
    {
      "cell_type": "code",
      "metadata": {
        "id": "acB-C3-2IwDD",
        "colab_type": "code",
        "colab": {}
      },
      "source": [
        ""
      ],
      "execution_count": 0,
      "outputs": []
    },
    {
      "cell_type": "markdown",
      "metadata": {
        "id": "A4gI63ciJErA",
        "colab_type": "text"
      },
      "source": [
        "**CODE FOR DEPLOYMENT**"
      ]
    },
    {
      "cell_type": "code",
      "metadata": {
        "id": "5oIhfJS9JHZn",
        "colab_type": "code",
        "colab": {}
      },
      "source": [
        "from tensorflow.keras.models import load_model\n",
        "import numpy as np\n",
        "import joblib\n",
        "\n",
        "flower_model = load_model(\"final_iris_models.h5\")\n",
        "flower_scaler = joblib.load(\"iris_scaler.pkl\")\n",
        "\n",
        "def return_prediction(model,scaler, sample_json):\n",
        "  s_len = sample_json[\"sepal_length\"]\n",
        "  s_wid = sample_json[\"sepal_width\"]\n",
        "  p_len = sample_json[\"petal_length\"]\n",
        "  p_wid = sample_json[\"petal_width\"]\n",
        "\n",
        "  flower = [[s_len,s_wid,p_len, p_wid]]\n",
        "  classes = np.array(['setosa', 'versicolor', 'virginica'])\n",
        "\n",
        "  flower = scaler.transform(flower)\n",
        "\n",
        "  class_ind = model.predict_classes(flower)\n",
        "\n",
        "  return classes[class_ind]"
      ],
      "execution_count": 0,
      "outputs": []
    },
    {
      "cell_type": "code",
      "metadata": {
        "id": "uSTM0ijgOe1N",
        "colab_type": "code",
        "colab": {}
      },
      "source": [
        ""
      ],
      "execution_count": 0,
      "outputs": []
    },
    {
      "cell_type": "markdown",
      "metadata": {
        "id": "CSK7w0aGOjdb",
        "colab_type": "text"
      },
      "source": [
        ""
      ]
    },
    {
      "cell_type": "code",
      "metadata": {
        "id": "LvOMshzHOfgV",
        "colab_type": "code",
        "colab": {}
      },
      "source": [
        ""
      ],
      "execution_count": 0,
      "outputs": []
    },
    {
      "cell_type": "code",
      "metadata": {
        "id": "kP4KycwAOfub",
        "colab_type": "code",
        "colab": {}
      },
      "source": [
        ""
      ],
      "execution_count": 0,
      "outputs": []
    }
  ]
}