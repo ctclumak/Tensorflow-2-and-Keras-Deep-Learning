{
  "nbformat": 4,
  "nbformat_minor": 0,
  "metadata": {
    "colab": {
      "name": "CNN ON CIFAR-10.ipynb",
      "provenance": [],
      "collapsed_sections": [],
      "authorship_tag": "ABX9TyOz8xxVffVLN+fGosN8hh7R",
      "include_colab_link": true
    },
    "kernelspec": {
      "name": "python3",
      "display_name": "Python 3"
    }
  },
  "cells": [
    {
      "cell_type": "markdown",
      "metadata": {
        "id": "view-in-github",
        "colab_type": "text"
      },
      "source": [
        "<a href=\"https://colab.research.google.com/github/ctclumak/Tensorflow-2-and-Keras-Deep-Learning/blob/master/CNN_ON_CIFAR_10.ipynb\" target=\"_parent\"><img src=\"https://colab.research.google.com/assets/colab-badge.svg\" alt=\"Open In Colab\"/></a>"
      ]
    },
    {
      "cell_type": "code",
      "metadata": {
        "id": "TV5DDuEdRdGw",
        "colab_type": "code",
        "colab": {}
      },
      "source": [
        "import pandas as pd\n",
        "import numpy as np\n",
        "\n",
        "import matplotlib.pyplot as plt\n",
        "%matplotlib inline"
      ],
      "execution_count": 0,
      "outputs": []
    },
    {
      "cell_type": "code",
      "metadata": {
        "id": "eUTusMQgR1Z7",
        "colab_type": "code",
        "colab": {}
      },
      "source": [
        "from tensorflow.keras.datasets import cifar10"
      ],
      "execution_count": 0,
      "outputs": []
    },
    {
      "cell_type": "code",
      "metadata": {
        "id": "M9ud0cymR6Kw",
        "colab_type": "code",
        "colab": {
          "base_uri": "https://localhost:8080/",
          "height": 51
        },
        "outputId": "44a019d5-49b5-4640-da57-d9573ace126e"
      },
      "source": [
        "(X_train,y_train), (X_test,y_test) = cifar10.load_data()"
      ],
      "execution_count": 4,
      "outputs": [
        {
          "output_type": "stream",
          "text": [
            "Downloading data from https://www.cs.toronto.edu/~kriz/cifar-10-python.tar.gz\n",
            "170500096/170498071 [==============================] - 41s 0us/step\n"
          ],
          "name": "stdout"
        }
      ]
    },
    {
      "cell_type": "code",
      "metadata": {
        "id": "QNUd2KiISFNi",
        "colab_type": "code",
        "colab": {
          "base_uri": "https://localhost:8080/",
          "height": 34
        },
        "outputId": "b002d638-d16f-4265-928f-3ae82872d916"
      },
      "source": [
        "X_train.shape"
      ],
      "execution_count": 5,
      "outputs": [
        {
          "output_type": "execute_result",
          "data": {
            "text/plain": [
              "(50000, 32, 32, 3)"
            ]
          },
          "metadata": {
            "tags": []
          },
          "execution_count": 5
        }
      ]
    },
    {
      "cell_type": "code",
      "metadata": {
        "id": "FfPJV8aiSJf4",
        "colab_type": "code",
        "colab": {
          "base_uri": "https://localhost:8080/",
          "height": 34
        },
        "outputId": "3b32de5e-d25d-410a-c27b-fc731a91b3d7"
      },
      "source": [
        "X_train[0].shape"
      ],
      "execution_count": 6,
      "outputs": [
        {
          "output_type": "execute_result",
          "data": {
            "text/plain": [
              "(32, 32, 3)"
            ]
          },
          "metadata": {
            "tags": []
          },
          "execution_count": 6
        }
      ]
    },
    {
      "cell_type": "code",
      "metadata": {
        "id": "PVE0uSf5SMFR",
        "colab_type": "code",
        "colab": {
          "base_uri": "https://localhost:8080/",
          "height": 283
        },
        "outputId": "9b1e4d61-22bd-488f-ec38-b305ee664965"
      },
      "source": [
        "plt.imshow(X_train[12])"
      ],
      "execution_count": 7,
      "outputs": [
        {
          "output_type": "execute_result",
          "data": {
            "text/plain": [
              "<matplotlib.image.AxesImage at 0x7f77fde5d940>"
            ]
          },
          "metadata": {
            "tags": []
          },
          "execution_count": 7
        },
        {
          "output_type": "display_data",
          "data": {
            "image/png": "[encoded data removed]",
            "text/plain": [
              "<Figure size 432x288 with 1 Axes>"
            ]
          },
          "metadata": {
            "tags": []
          }
        }
      ]
    },
    {
      "cell_type": "code",
      "metadata": {
        "id": "HG3icBtiSPWR",
        "colab_type": "code",
        "colab": {
          "base_uri": "https://localhost:8080/",
          "height": 34
        },
        "outputId": "b578a5d7-d1aa-4192-8fca-e37ffc90279f"
      },
      "source": [
        "# Preprocessing\n",
        "X_train[0].max()"
      ],
      "execution_count": 8,
      "outputs": [
        {
          "output_type": "execute_result",
          "data": {
            "text/plain": [
              "255"
            ]
          },
          "metadata": {
            "tags": []
          },
          "execution_count": 8
        }
      ]
    },
    {
      "cell_type": "code",
      "metadata": {
        "id": "iY-Hiii7Sr6R",
        "colab_type": "code",
        "colab": {}
      },
      "source": [
        "X_train = X_train/255"
      ],
      "execution_count": 0,
      "outputs": []
    },
    {
      "cell_type": "code",
      "metadata": {
        "id": "oYLuhBNKSwWQ",
        "colab_type": "code",
        "colab": {}
      },
      "source": [
        "X_test = X_test/255"
      ],
      "execution_count": 0,
      "outputs": []
    },
    {
      "cell_type": "code",
      "metadata": {
        "id": "wAKTNgsuSyrI",
        "colab_type": "code",
        "colab": {
          "base_uri": "https://localhost:8080/",
          "height": 34
        },
        "outputId": "3568fa45-f177-4a4b-fa2a-ede2a809c018"
      },
      "source": [
        "X_test.shape"
      ],
      "execution_count": 11,
      "outputs": [
        {
          "output_type": "execute_result",
          "data": {
            "text/plain": [
              "(10000, 32, 32, 3)"
            ]
          },
          "metadata": {
            "tags": []
          },
          "execution_count": 11
        }
      ]
    },
    {
      "cell_type": "code",
      "metadata": {
        "id": "lmjXPTpTS0W3",
        "colab_type": "code",
        "colab": {}
      },
      "source": [
        "# transform the y_train to categorical data\n",
        "from tensorflow.keras.utils import to_categorical"
      ],
      "execution_count": 0,
      "outputs": []
    },
    {
      "cell_type": "code",
      "metadata": {
        "id": "Rvxfy6csTC1U",
        "colab_type": "code",
        "colab": {}
      },
      "source": [
        "y_cat_train = to_categorical(y_train,10)"
      ],
      "execution_count": 0,
      "outputs": []
    },
    {
      "cell_type": "code",
      "metadata": {
        "id": "8lb_W7aETHXq",
        "colab_type": "code",
        "colab": {}
      },
      "source": [
        "y_cat_test = to_categorical(y_test,10)"
      ],
      "execution_count": 0,
      "outputs": []
    },
    {
      "cell_type": "code",
      "metadata": {
        "id": "lQjLsWZiTOAz",
        "colab_type": "code",
        "colab": {
          "base_uri": "https://localhost:8080/",
          "height": 283
        },
        "outputId": "922cae8d-0239-458b-bb8f-5ee588967d6d"
      },
      "source": [
        "plt.imshow(X_train[12])"
      ],
      "execution_count": 15,
      "outputs": [
        {
          "output_type": "execute_result",
          "data": {
            "text/plain": [
              "<matplotlib.image.AxesImage at 0x7f77fd9bb048>"
            ]
          },
          "metadata": {
            "tags": []
          },
          "execution_count": 15
        },
        {
          "output_type": "display_data",
          "data": {
            "image/png": "[encoded data removed]",
            "text/plain": [
              "<Figure size 432x288 with 1 Axes>"
            ]
          },
          "metadata": {
            "tags": []
          }
        }
      ]
    },
    {
      "cell_type": "code",
      "metadata": {
        "id": "M6aDlbw-TX2a",
        "colab_type": "code",
        "colab": {}
      },
      "source": [
        ""
      ],
      "execution_count": 0,
      "outputs": []
    },
    {
      "cell_type": "markdown",
      "metadata": {
        "id": "7mSfA6pHThsY",
        "colab_type": "text"
      },
      "source": [
        "**Create the model**"
      ]
    },
    {
      "cell_type": "code",
      "metadata": {
        "id": "idVR863ATkCA",
        "colab_type": "code",
        "colab": {
          "base_uri": "https://localhost:8080/",
          "height": 63
        },
        "outputId": "ff7f9ddd-3546-4325-f8ed-6e002c8bc913"
      },
      "source": [
        "from tensorflow.keras.models import Sequential\n",
        "from tensorflow.keras.layers import Dense, Conv2D, MaxPool2D,Flatten"
      ],
      "execution_count": 16,
      "outputs": [
        {
          "output_type": "display_data",
          "data": {
            "text/html": [
              "<p style=\"color: red;\">\n",
              "The default version of TensorFlow in Colab will soon switch to TensorFlow 2.x.<br>\n",
              "We recommend you <a href=\"https://www.tensorflow.org/guide/migrate\" target=\"_blank\">upgrade</a> now \n",
              "or ensure your notebook will continue to use TensorFlow 1.x via the <code>%tensorflow_version 1.x</code> magic:\n",
              "<a href=\"https://colab.research.google.com/notebooks/tensorflow_version.ipynb\" target=\"_blank\">more info</a>.</p>\n"
            ],
            "text/plain": [
              "<IPython.core.display.HTML object>"
            ]
          },
          "metadata": {
            "tags": []
          }
        }
      ]
    },
    {
      "cell_type": "code",
      "metadata": {
        "id": "DBJRJn68Tyn6",
        "colab_type": "code",
        "colab": {
          "base_uri": "https://localhost:8080/",
          "height": 88
        },
        "outputId": "853f9b9a-c8c7-4dd1-e7ea-a30c73319e0f"
      },
      "source": [
        "model = Sequential()\n",
        "# convolutional layer\n",
        "model.add(Conv2D(filters=32,kernel_size=(4,4), input_shape=(32,32,3), activation=\"relu\",))\n",
        "#pooling layer\n",
        "model.add(MaxPool2D(pool_size=(2,2)))\n",
        "\n",
        "# add multiple laters\n",
        "\n",
        "# convolutional layer\n",
        "model.add(Conv2D(filters=32,kernel_size=(4,4), input_shape=(32,32,3), activation=\"relu\",))\n",
        "#pooling layer\n",
        "model.add(MaxPool2D(pool_size=(2,2)))\n",
        "\n",
        "#flatten the layer\n",
        "\n",
        "model.add(Flatten())\n",
        "\n",
        "# add dense layer\n",
        "model.add(Dense(256, activation='relu'))\n",
        "model.add(Dense(10,activation='softmax' ))\n",
        "\n",
        "# compile the model\n",
        "model.compile(loss = \"categorical_crossentropy\", optimizer='adam', metrics=['accuracy'])"
      ],
      "execution_count": 18,
      "outputs": [
        {
          "output_type": "stream",
          "text": [
            "WARNING:tensorflow:From /usr/local/lib/python3.6/dist-packages/tensorflow_core/python/ops/resource_variable_ops.py:1630: calling BaseResourceVariable.__init__ (from tensorflow.python.ops.resource_variable_ops) with constraint is deprecated and will be removed in a future version.\n",
            "Instructions for updating:\n",
            "If using Keras pass *_constraint arguments to layers.\n"
          ],
          "name": "stdout"
        }
      ]
    },
    {
      "cell_type": "code",
      "metadata": {
        "id": "Mv7bSgWPA2pl",
        "colab_type": "code",
        "colab": {
          "base_uri": "https://localhost:8080/",
          "height": 391
        },
        "outputId": "6ec9b19e-0f41-4d9e-8c86-693b46f6586b"
      },
      "source": [
        "model.summary()"
      ],
      "execution_count": 19,
      "outputs": [
        {
          "output_type": "stream",
          "text": [
            "Model: \"sequential_1\"\n",
            "_________________________________________________________________\n",
            "Layer (type)                 Output Shape              Param #   \n",
            "=================================================================\n",
            "conv2d (Conv2D)              (None, 29, 29, 32)        1568      \n",
            "_________________________________________________________________\n",
            "max_pooling2d (MaxPooling2D) (None, 14, 14, 32)        0         \n",
            "_________________________________________________________________\n",
            "conv2d_1 (Conv2D)            (None, 11, 11, 32)        16416     \n",
            "_________________________________________________________________\n",
            "max_pooling2d_1 (MaxPooling2 (None, 5, 5, 32)          0         \n",
            "_________________________________________________________________\n",
            "flatten (Flatten)            (None, 800)               0         \n",
            "_________________________________________________________________\n",
            "dense (Dense)                (None, 256)               205056    \n",
            "_________________________________________________________________\n",
            "dense_1 (Dense)              (None, 10)                2570      \n",
            "=================================================================\n",
            "Total params: 225,610\n",
            "Trainable params: 225,610\n",
            "Non-trainable params: 0\n",
            "_________________________________________________________________\n"
          ],
          "name": "stdout"
        }
      ]
    },
    {
      "cell_type": "code",
      "metadata": {
        "id": "utfq24S4A6f4",
        "colab_type": "code",
        "colab": {
          "base_uri": "https://localhost:8080/",
          "height": 343
        },
        "outputId": "538e0842-df15-4c84-99e6-78d9cdf009e7"
      },
      "source": [
        "# add early stopping\n",
        "\n",
        "from tensorflow.keras.callbacks import EarlyStopping\n",
        "early_stop = EarlyStopping(monitor=\"val_loss\", patience = 2)\n",
        "\n",
        "#fit the model\n",
        "model.fit(X_train,y_cat_train, epochs=15,validation_data=(X_test,y_cat_test), callbacks=[early_stop])"
      ],
      "execution_count": 20,
      "outputs": [
        {
          "output_type": "stream",
          "text": [
            "Train on 50000 samples, validate on 10000 samples\n",
            "Epoch 1/15\n",
            "50000/50000 [==============================] - 64s 1ms/sample - loss: 1.5126 - acc: 0.4508 - val_loss: 1.2679 - val_acc: 0.5459\n",
            "Epoch 2/15\n",
            "50000/50000 [==============================] - 64s 1ms/sample - loss: 1.1886 - acc: 0.5797 - val_loss: 1.1308 - val_acc: 0.5984\n",
            "Epoch 3/15\n",
            "50000/50000 [==============================] - 64s 1ms/sample - loss: 1.0536 - acc: 0.6299 - val_loss: 1.1109 - val_acc: 0.6188\n",
            "Epoch 4/15\n",
            "50000/50000 [==============================] - 65s 1ms/sample - loss: 0.9560 - acc: 0.6657 - val_loss: 1.0597 - val_acc: 0.6293\n",
            "Epoch 5/15\n",
            "50000/50000 [==============================] - 66s 1ms/sample - loss: 0.8742 - acc: 0.6956 - val_loss: 1.0093 - val_acc: 0.6567\n",
            "Epoch 6/15\n",
            "50000/50000 [==============================] - 65s 1ms/sample - loss: 0.8018 - acc: 0.7183 - val_loss: 0.9838 - val_acc: 0.6652\n",
            "Epoch 7/15\n",
            "50000/50000 [==============================] - 65s 1ms/sample - loss: 0.7350 - acc: 0.7432 - val_loss: 1.0034 - val_acc: 0.6670\n",
            "Epoch 8/15\n",
            "50000/50000 [==============================] - 64s 1ms/sample - loss: 0.6726 - acc: 0.7648 - val_loss: 1.0613 - val_acc: 0.6567\n"
          ],
          "name": "stdout"
        },
        {
          "output_type": "execute_result",
          "data": {
            "text/plain": [
              "<tensorflow.python.keras.callbacks.History at 0x7f77fcdb5b38>"
            ]
          },
          "metadata": {
            "tags": []
          },
          "execution_count": 20
        }
      ]
    },
    {
      "cell_type": "code",
      "metadata": {
        "id": "zTOLsz4hBcMW",
        "colab_type": "code",
        "colab": {
          "base_uri": "https://localhost:8080/",
          "height": 297
        },
        "outputId": "0c843473-a86c-4170-d8f7-fbc0332e2c1e"
      },
      "source": [
        "metrics = pd.DataFrame(model.history.history)\n",
        "metrics"
      ],
      "execution_count": 22,
      "outputs": [
        {
          "output_type": "execute_result",
          "data": {
            "text/html": [
              "<div>\n",
              "<style scoped>\n",
              "    .dataframe tbody tr th:only-of-type {\n",
              "        vertical-align: middle;\n",
              "    }\n",
              "\n",
              "    .dataframe tbody tr th {\n",
              "        vertical-align: top;\n",
              "    }\n",
              "\n",
              "    .dataframe thead th {\n",
              "        text-align: right;\n",
              "    }\n",
              "</style>\n",
              "<table border=\"1\" class=\"dataframe\">\n",
              "  <thead>\n",
              "    <tr style=\"text-align: right;\">\n",
              "      <th></th>\n",
              "      <th>loss</th>\n",
              "      <th>acc</th>\n",
              "      <th>val_loss</th>\n",
              "      <th>val_acc</th>\n",
              "    </tr>\n",
              "  </thead>\n",
              "  <tbody>\n",
              "    <tr>\n",
              "      <th>0</th>\n",
              "      <td>1.512581</td>\n",
              "      <td>0.45078</td>\n",
              "      <td>1.267945</td>\n",
              "      <td>0.5459</td>\n",
              "    </tr>\n",
              "    <tr>\n",
              "      <th>1</th>\n",
              "      <td>1.188600</td>\n",
              "      <td>0.57974</td>\n",
              "      <td>1.130840</td>\n",
              "      <td>0.5984</td>\n",
              "    </tr>\n",
              "    <tr>\n",
              "      <th>2</th>\n",
              "      <td>1.053556</td>\n",
              "      <td>0.62994</td>\n",
              "      <td>1.110898</td>\n",
              "      <td>0.6188</td>\n",
              "    </tr>\n",
              "    <tr>\n",
              "      <th>3</th>\n",
              "      <td>0.955952</td>\n",
              "      <td>0.66568</td>\n",
              "      <td>1.059735</td>\n",
              "      <td>0.6293</td>\n",
              "    </tr>\n",
              "    <tr>\n",
              "      <th>4</th>\n",
              "      <td>0.874179</td>\n",
              "      <td>0.69564</td>\n",
              "      <td>1.009291</td>\n",
              "      <td>0.6567</td>\n",
              "    </tr>\n",
              "    <tr>\n",
              "      <th>5</th>\n",
              "      <td>0.801836</td>\n",
              "      <td>0.71832</td>\n",
              "      <td>0.983830</td>\n",
              "      <td>0.6652</td>\n",
              "    </tr>\n",
              "    <tr>\n",
              "      <th>6</th>\n",
              "      <td>0.735023</td>\n",
              "      <td>0.74322</td>\n",
              "      <td>1.003375</td>\n",
              "      <td>0.6670</td>\n",
              "    </tr>\n",
              "    <tr>\n",
              "      <th>7</th>\n",
              "      <td>0.672569</td>\n",
              "      <td>0.76476</td>\n",
              "      <td>1.061327</td>\n",
              "      <td>0.6567</td>\n",
              "    </tr>\n",
              "  </tbody>\n",
              "</table>\n",
              "</div>"
            ],
            "text/plain": [
              "       loss      acc  val_loss  val_acc\n",
              "0  1.512581  0.45078  1.267945   0.5459\n",
              "1  1.188600  0.57974  1.130840   0.5984\n",
              "2  1.053556  0.62994  1.110898   0.6188\n",
              "3  0.955952  0.66568  1.059735   0.6293\n",
              "4  0.874179  0.69564  1.009291   0.6567\n",
              "5  0.801836  0.71832  0.983830   0.6652\n",
              "6  0.735023  0.74322  1.003375   0.6670\n",
              "7  0.672569  0.76476  1.061327   0.6567"
            ]
          },
          "metadata": {
            "tags": []
          },
          "execution_count": 22
        }
      ]
    },
    {
      "cell_type": "code",
      "metadata": {
        "id": "SDUwIwg-DfKv",
        "colab_type": "code",
        "colab": {
          "base_uri": "https://localhost:8080/",
          "height": 34
        },
        "outputId": "c2feb4a1-2b4c-41ff-e2a2-1df4fc796c0c"
      },
      "source": [
        "metrics.columns"
      ],
      "execution_count": 23,
      "outputs": [
        {
          "output_type": "execute_result",
          "data": {
            "text/plain": [
              "Index(['loss', 'acc', 'val_loss', 'val_acc'], dtype='object')"
            ]
          },
          "metadata": {
            "tags": []
          },
          "execution_count": 23
        }
      ]
    },
    {
      "cell_type": "code",
      "metadata": {
        "id": "gr6GtYdVDlUx",
        "colab_type": "code",
        "colab": {
          "base_uri": "https://localhost:8080/",
          "height": 282
        },
        "outputId": "7ed8495b-a3ca-4e85-e34e-30c468e8d4f4"
      },
      "source": [
        "metrics[[\"acc\", \"val_acc\"]].plot()"
      ],
      "execution_count": 24,
      "outputs": [
        {
          "output_type": "execute_result",
          "data": {
            "text/plain": [
              "<matplotlib.axes._subplots.AxesSubplot at 0x7f77e9212860>"
            ]
          },
          "metadata": {
            "tags": []
          },
          "execution_count": 24
        },
        {
          "output_type": "display_data",
          "data": {
            "image/png": "[encoded data removed]",
            "text/plain": [
              "<Figure size 432x288 with 1 Axes>"
            ]
          },
          "metadata": {
            "tags": []
          }
        }
      ]
    },
    {
      "cell_type": "code",
      "metadata": {
        "id": "4lq01gcqD0Cl",
        "colab_type": "code",
        "colab": {
          "base_uri": "https://localhost:8080/",
          "height": 282
        },
        "outputId": "b2da331a-a54a-4cc1-b846-81c6990ae5d9"
      },
      "source": [
        "metrics[[\"loss\", \"val_loss\"]].plot()"
      ],
      "execution_count": 25,
      "outputs": [
        {
          "output_type": "execute_result",
          "data": {
            "text/plain": [
              "<matplotlib.axes._subplots.AxesSubplot at 0x7f77e919e860>"
            ]
          },
          "metadata": {
            "tags": []
          },
          "execution_count": 25
        },
        {
          "output_type": "display_data",
          "data": {
            "image/png": "[encoded data removed]",
            "text/plain": [
              "<Figure size 432x288 with 1 Axes>"
            ]
          },
          "metadata": {
            "tags": []
          }
        }
      ]
    },
    {
      "cell_type": "code",
      "metadata": {
        "id": "Lb8RBM-6D5Lk",
        "colab_type": "code",
        "colab": {
          "base_uri": "https://localhost:8080/",
          "height": 34
        },
        "outputId": "2ea454ba-3ecd-4ad2-9634-d9a00ffc76fe"
      },
      "source": [
        " #evaluate the model\n",
        " model.evaluate(X_test,y_cat_test,verbose=0)"
      ],
      "execution_count": 27,
      "outputs": [
        {
          "output_type": "execute_result",
          "data": {
            "text/plain": [
              "[1.0613267609596253, 0.6567]"
            ]
          },
          "metadata": {
            "tags": []
          },
          "execution_count": 27
        }
      ]
    },
    {
      "cell_type": "code",
      "metadata": {
        "id": "ooJmKGnjEJP7",
        "colab_type": "code",
        "colab": {}
      },
      "source": [
        "# create a classification report and evaluation metrics\n",
        "from sklearn.metrics import classification_report, confusion_matrix"
      ],
      "execution_count": 0,
      "outputs": []
    },
    {
      "cell_type": "code",
      "metadata": {
        "id": "0dR2K4kuEd4n",
        "colab_type": "code",
        "colab": {}
      },
      "source": [
        "predictions = model.predict_classes(X_test)"
      ],
      "execution_count": 0,
      "outputs": []
    },
    {
      "cell_type": "code",
      "metadata": {
        "id": "OAk8hOg2EhmX",
        "colab_type": "code",
        "colab": {
          "base_uri": "https://localhost:8080/",
          "height": 306
        },
        "outputId": "994f70d1-a4e0-42ee-825c-039ab7755d33"
      },
      "source": [
        "print(classification_report(y_test,predictions))"
      ],
      "execution_count": 30,
      "outputs": [
        {
          "output_type": "stream",
          "text": [
            "              precision    recall  f1-score   support\n",
            "\n",
            "           0       0.69      0.72      0.71      1000\n",
            "           1       0.72      0.82      0.77      1000\n",
            "           2       0.62      0.47      0.53      1000\n",
            "           3       0.48      0.49      0.49      1000\n",
            "           4       0.56      0.68      0.61      1000\n",
            "           5       0.67      0.46      0.54      1000\n",
            "           6       0.66      0.79      0.72      1000\n",
            "           7       0.82      0.67      0.74      1000\n",
            "           8       0.82      0.68      0.74      1000\n",
            "           9       0.61      0.79      0.69      1000\n",
            "\n",
            "    accuracy                           0.66     10000\n",
            "   macro avg       0.66      0.66      0.65     10000\n",
            "weighted avg       0.66      0.66      0.65     10000\n",
            "\n"
          ],
          "name": "stdout"
        }
      ]
    },
    {
      "cell_type": "code",
      "metadata": {
        "id": "atY3USLzEpyA",
        "colab_type": "code",
        "colab": {
          "base_uri": "https://localhost:8080/",
          "height": 391
        },
        "outputId": "73050b9c-dae9-433c-86eb-a1b91d8a2e22"
      },
      "source": [
        "import seaborn as sns\n",
        "plt.figure(figsize =(10,6))\n",
        "sns.heatmap(confusion_matrix(y_test,predictions), annot = True)"
      ],
      "execution_count": 33,
      "outputs": [
        {
          "output_type": "execute_result",
          "data": {
            "text/plain": [
              "<matplotlib.axes._subplots.AxesSubplot at 0x7f77e20d1940>"
            ]
          },
          "metadata": {
            "tags": []
          },
          "execution_count": 33
        },
        {
          "output_type": "display_data",
          "data": {
            "image/png": "[encoded data removed]",
            "text/plain": [
              "<Figure size 720x432 with 2 Axes>"
            ]
          },
          "metadata": {
            "tags": []
          }
        }
      ]
    },
    {
      "cell_type": "code",
      "metadata": {
        "id": "U4LIFWeKFCyC",
        "colab_type": "code",
        "colab": {
          "base_uri": "https://localhost:8080/",
          "height": 283
        },
        "outputId": "4d1535a3-f9ed-49d7-8146-ebed181db51f"
      },
      "source": [
        "my_image = X_test[16]\n",
        "plt.imshow(my_image)"
      ],
      "execution_count": 37,
      "outputs": [
        {
          "output_type": "execute_result",
          "data": {
            "text/plain": [
              "<matplotlib.image.AxesImage at 0x7f77e1e6b550>"
            ]
          },
          "metadata": {
            "tags": []
          },
          "execution_count": 37
        },
        {
          "output_type": "display_data",
          "data": {
            "image/png": "[encoded data removed]",
            "text/plain": [
              "<Figure size 432x288 with 1 Axes>"
            ]
          },
          "metadata": {
            "tags": []
          }
        }
      ]
    },
    {
      "cell_type": "code",
      "metadata": {
        "id": "nrXj9ggzFdMG",
        "colab_type": "code",
        "colab": {
          "base_uri": "https://localhost:8080/",
          "height": 34
        },
        "outputId": "a8c037d8-53d0-403c-9b82-e4933ac86aec"
      },
      "source": [
        "y_test[16]"
      ],
      "execution_count": 38,
      "outputs": [
        {
          "output_type": "execute_result",
          "data": {
            "text/plain": [
              "array([5], dtype=uint8)"
            ]
          },
          "metadata": {
            "tags": []
          },
          "execution_count": 38
        }
      ]
    },
    {
      "cell_type": "code",
      "metadata": {
        "id": "H4LdXoCDFhmY",
        "colab_type": "code",
        "colab": {
          "base_uri": "https://localhost:8080/",
          "height": 34
        },
        "outputId": "69d7a643-f586-4318-b78e-338b375257e5"
      },
      "source": [
        "model.predict_classes(my_image.reshape(1,32,32,3))"
      ],
      "execution_count": 39,
      "outputs": [
        {
          "output_type": "execute_result",
          "data": {
            "text/plain": [
              "array([5])"
            ]
          },
          "metadata": {
            "tags": []
          },
          "execution_count": 39
        }
      ]
    },
    {
      "cell_type": "code",
      "metadata": {
        "id": "G2MZir9VFrEp",
        "colab_type": "code",
        "colab": {}
      },
      "source": [
        ""
      ],
      "execution_count": 0,
      "outputs": []
    }
  ]
}